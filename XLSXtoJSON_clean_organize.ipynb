{
 "cells": [
  {
   "cell_type": "code",
   "execution_count": 1,
   "metadata": {
    "collapsed": false
   },
   "outputs": [],
   "source": [
    "import pandas\n",
    "import json"
   ]
  },
  {
   "cell_type": "code",
   "execution_count": 2,
   "metadata": {
    "collapsed": false
   },
   "outputs": [],
   "source": [
    "def writeJSONStrToFile(json_str, name):\n",
    "    jsonFile = open(name + '.json', 'w')\n",
    "    jsonFile.write(json_str)\n",
    "    jsonFile.close()\n",
    "\n",
    "def writeJSONObjToFile(json_obj, name):\n",
    "    jsonFile = open(name + '.json', 'w')\n",
    "    jsonFile.write(json.dumps(json_obj))\n",
    "    jsonFile.close()"
   ]
  },
  {
   "cell_type": "code",
   "execution_count": 3,
   "metadata": {
    "collapsed": false
   },
   "outputs": [],
   "source": [
    "# Raw JSON data from XLSX\n",
    "excel_data_df = pandas.read_excel('Data_Explorer_Dataset.xlsx', sheet_name='Data Explorer Report')\n",
    "mydict = excel_data_df.to_dict(orient='records')\n",
    "json_str = excel_data_df.to_json(orient='records')\n",
    "\n",
    "writeJSONStrToFile(json_str, 'raw_data')\n",
    "\n",
    "with open('raw_data.json') as f:\n",
    "    raw_data = list(json.load(f))"
   ]
  },
  {
   "cell_type": "code",
   "execution_count": 4,
   "metadata": {
    "collapsed": false
   },
   "outputs": [],
   "source": [
    "# JSON data with no duplicate locations\n",
    "seen_coords_lat = set()\n",
    "seen_coords_long = set()\n",
    "data_no_duplicates = []\n",
    "for item in raw_data:\n",
    "    if item['Latitude'] not in seen_coords_lat and item['Longitude'] not in seen_coords_long:\n",
    "        data_no_duplicates.append(item)\n",
    "        seen_coords_lat.add(item['Latitude'])\n",
    "        seen_coords_long.add(item['Longitude'])\n",
    "\n",
    "writeJSONObjToFile(data_no_duplicates, \"data_no_duplicates\")"
   ]
  },
  {
   "cell_type": "code",
   "execution_count": 5,
   "metadata": {
    "collapsed": false
   },
   "outputs": [],
   "source": [
    "# Prepare JSON data for filtering\n",
    "data_list_for_filter = []\n",
    "for item in data_no_duplicates:\n",
    "    item_organ_list = [organ[1:] for organ in item[\"OTC Service List\"].split(',')]\n",
    "    item['OTC Service List'] = item_organ_list\n",
    "    data_list_for_filter.append(item)\n",
    "\n",
    "writeJSONObjToFile(data_list_for_filter, 'data_list_for_filter')"
   ]
  },
  {
   "cell_type": "code",
   "execution_count": 6,
   "metadata": {
    "collapsed": false
   },
   "outputs": [],
   "source": [
    "# Create a map for mapping JSON data to a filter selection\n",
    "data_map = {}\n",
    "counter = 0\n",
    "for item in data_list_for_filter:\n",
    "    for organ in item['OTC Service List']:\n",
    "        if organ not in data_map:\n",
    "            data_map[organ] = []\n",
    "        data_map[organ].append(counter)\n",
    "    counter += 1\n",
    "\n",
    "writeJSONObjToFile(data_map, 'data_map')"
   ]
  },
  {
   "cell_type": "code",
   "execution_count": null,
   "metadata": {
    "collapsed": false
   },
   "outputs": [],
   "source": []
  }
 ],
 "metadata": {
  "kernelspec": {
   "display_name": "Python 3 (system-wide)",
   "language": "python",
   "metadata": {
    "cocalc": {
     "description": "Python 3 programming language",
     "priority": 100,
     "url": "https://www.python.org/"
    }
   },
   "name": "python3",
   "resource_dir": "/ext/jupyter/kernels/python3"
  },
  "language_info": {
   "codemirror_mode": {
    "name": "ipython",
    "version": 3
   },
   "file_extension": ".py",
   "mimetype": "text/x-python",
   "name": "python",
   "nbconvert_exporter": "python",
   "pygments_lexer": "ipython3",
   "version": "3.8.10"
  }
 },
 "nbformat": 4,
 "nbformat_minor": 4
}
